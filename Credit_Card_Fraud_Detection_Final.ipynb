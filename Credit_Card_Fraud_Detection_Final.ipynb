{
 "cells": [
  {
   "cell_type": "markdown",
   "id": "84d7b198",
   "metadata": {},
   "source": [
    "# Credit Card Fraud Detection - Final Project"
   ]
  },
  {
   "cell_type": "markdown",
   "id": "375050d1",
   "metadata": {},
   "source": [
    "## 1. Class Imbalance Check"
   ]
  },
  {
   "cell_type": "code",
   "execution_count": null,
   "id": "ba2aef55",
   "metadata": {},
   "outputs": [],
   "source": [
    "# Check class distribution\n",
    "sns.countplot(x='Class', data=df)\n",
    "plt.title('Distribution of Fraud vs. Non-Fraud')\n",
    "plt.show()\n",
    "\n",
    "print(\"Class distribution:\")\n",
    "print(df['Class'].value_counts(normalize=True))"
   ]
  },
  {
   "cell_type": "markdown",
   "id": "222d8713",
   "metadata": {},
   "source": [
    "## 2. Feature Scaling and Cleanup"
   ]
  },
  {
   "cell_type": "code",
   "execution_count": null,
   "id": "a06d0d35",
   "metadata": {},
   "outputs": [],
   "source": [
    "# Normalize 'Amount' and drop 'Time'\n",
    "scaler = StandardScaler()\n",
    "df['normAmount'] = scaler.fit_transform(df[['Amount']])\n",
    "df.drop(['Amount', 'Time'], axis=1, inplace=True)"
   ]
  },
  {
   "cell_type": "markdown",
   "id": "de71e1d5",
   "metadata": {},
   "source": [
    "## 3. Train-Test Split with Stratification"
   ]
  },
  {
   "cell_type": "code",
   "execution_count": null,
   "id": "7172c673",
   "metadata": {},
   "outputs": [],
   "source": [
    "# Define features and labels\n",
    "X = df.drop('Class', axis=1)\n",
    "y = df['Class']\n",
    "\n",
    "# Split the data\n",
    "X_train, X_test, y_train, y_test = train_test_split(\n",
    "    X, y, test_size=0.2, stratify=y, random_state=42)"
   ]
  },
  {
   "cell_type": "markdown",
   "id": "b9485c47",
   "metadata": {},
   "source": [
    "## 4. Handling Imbalance with SMOTE"
   ]
  },
  {
   "cell_type": "code",
   "execution_count": null,
   "id": "0a465660",
   "metadata": {},
   "outputs": [],
   "source": [
    "# Apply SMOTE to balance the training data\n",
    "sm = SMOTE(random_state=42)\n",
    "X_train_res, y_train_res = sm.fit_resample(X_train, y_train)\n",
    "\n",
    "print(\"Resampled class distribution:\")\n",
    "print(pd.Series(y_train_res).value_counts())"
   ]
  },
  {
   "cell_type": "markdown",
   "id": "f3af492f",
   "metadata": {},
   "source": [
    "## 5. Logistic Regression Training"
   ]
  },
  {
   "cell_type": "code",
   "execution_count": null,
   "id": "ca7c579f",
   "metadata": {},
   "outputs": [],
   "source": [
    "# Train logistic regression model\n",
    "lr = LogisticRegression(max_iter=1000, random_state=42)\n",
    "lr.fit(X_train_res, y_train_res)\n",
    "y_pred_lr = lr.predict(X_test)"
   ]
  },
  {
   "cell_type": "markdown",
   "id": "18fe3279",
   "metadata": {},
   "source": [
    "## 6. Evaluation Metrics for Logistic Regression"
   ]
  },
  {
   "cell_type": "code",
   "execution_count": null,
   "id": "53b8083b",
   "metadata": {},
   "outputs": [],
   "source": [
    "# Evaluation metrics\n",
    "print(\"Classification Report for Logistic Regression:\")\n",
    "print(classification_report(y_test, y_pred_lr))\n",
    "print(\"Accuracy:\", accuracy_score(y_test, y_pred_lr))\n",
    "print(\"Precision:\", precision_score(y_test, y_pred_lr))\n",
    "print(\"Recall:\", recall_score(y_test, y_pred_lr))\n",
    "print(\"F1 Score:\", f1_score(y_test, y_pred_lr))"
   ]
  },
  {
   "cell_type": "markdown",
   "id": "2ab16952",
   "metadata": {},
   "source": [
    "## 7. Plot Confusion Matrix and Curves"
   ]
  },
  {
   "cell_type": "code",
   "execution_count": null,
   "id": "01130b70",
   "metadata": {},
   "outputs": [],
   "source": [
    "# Confusion Matrix\n",
    "from sklearn.metrics import confusion_matrix, roc_curve, auc\n",
    "\n",
    "conf_matrix = confusion_matrix(y_test, y_pred_lr)\n",
    "sns.heatmap(conf_matrix, annot=True, fmt='d')\n",
    "plt.title('Confusion Matrix')\n",
    "plt.xlabel('Predicted')\n",
    "plt.ylabel('Actual')\n",
    "plt.show()\n",
    "\n",
    "# ROC Curve\n",
    "y_scores = lr.predict_proba(X_test)[:, 1]\n",
    "fpr, tpr, thresholds = roc_curve(y_test, y_scores)\n",
    "roc_auc = auc(fpr, tpr)\n",
    "\n",
    "plt.figure()\n",
    "plt.plot(fpr, tpr, label='ROC curve (area = {:.2f})'.format(roc_auc))\n",
    "plt.plot([0, 1], [0, 1], 'k--')\n",
    "plt.xlabel('False Positive Rate')\n",
    "plt.ylabel('True Positive Rate')\n",
    "plt.title('Receiver Operating Characteristic (ROC)')\n",
    "plt.legend(loc=\"lower right\")\n",
    "plt.show()"
   ]
  },
  {
   "cell_type": "markdown",
   "id": "7a35c6f3",
   "metadata": {},
   "source": [
    "## 8. Random Forest and XGBoost"
   ]
  },
  {
   "cell_type": "code",
   "execution_count": null,
   "id": "3e910766",
   "metadata": {},
   "outputs": [],
   "source": [
    "from sklearn.ensemble import RandomForestClassifier\n",
    "from xgboost import XGBClassifier\n",
    "\n",
    "# Random Forest\n",
    "rf = RandomForestClassifier(n_estimators=100, class_weight='balanced', random_state=42)\n",
    "rf.fit(X_train_res, y_train_res)\n",
    "y_pred_rf = rf.predict(X_test)\n",
    "\n",
    "# XGBoost\n",
    "xgb = XGBClassifier(scale_pos_weight=100, use_label_encoder=False, eval_metric='logloss')\n",
    "xgb.fit(X_train_res, y_train_res)\n",
    "y_pred_xgb = xgb.predict(X_test)"
   ]
  },
  {
   "cell_type": "markdown",
   "id": "befe0520",
   "metadata": {},
   "source": [
    "## 9. Model Comparison Table"
   ]
  },
  {
   "cell_type": "code",
   "execution_count": null,
   "id": "de55194d",
   "metadata": {},
   "outputs": [],
   "source": [
    "models = {\n",
    "    \"Logistic Regression\": y_pred_lr,\n",
    "    \"Random Forest\": y_pred_rf,\n",
    "    \"XGBoost\": y_pred_xgb\n",
    "}\n",
    "\n",
    "print(\"Model Comparison:\")\n",
    "for name, pred in models.items():\n",
    "    print(f\"\\n{name}:\")\n",
    "    print(\"Precision:\", precision_score(y_test, pred))\n",
    "    print(\"Recall:\", recall_score(y_test, pred))\n",
    "    print(\"F1 Score:\", f1_score(y_test, pred))\n",
    "    print(\"ROC AUC:\", roc_auc_score(y_test, pred))"
   ]
  },
  {
   "cell_type": "markdown",
   "id": "8b4f41ec",
   "metadata": {},
   "source": [
    "## 10. Feature Importance from Random Forest"
   ]
  },
  {
   "cell_type": "code",
   "execution_count": null,
   "id": "02d7d3fe",
   "metadata": {},
   "outputs": [],
   "source": [
    "importances = rf.feature_importances_\n",
    "feature_names = X.columns\n",
    "indices = np.argsort(importances)[::-1]\n",
    "\n",
    "plt.figure(figsize=(10, 6))\n",
    "sns.barplot(x=importances[indices][:10], y=feature_names[indices][:10])\n",
    "plt.title(\"Top 10 Important Features - Random Forest\")\n",
    "plt.show()"
   ]
  },
  {
   "cell_type": "markdown",
   "id": "fa77ae92",
   "metadata": {},
   "source": [
    "## 11. Deployment Plan (Markdown)"
   ]
  },
  {
   "cell_type": "code",
   "execution_count": null,
   "id": "052058ed",
   "metadata": {},
   "outputs": [],
   "source": [
    "# Deployment Plan\n",
    "\n",
    "# The model can be deployed using a REST API built with Flask or FastAPI. \n",
    "# We recommend using a real-time API setup to detect transactions as they occur. \n",
    "# The model can be containerized using Docker and deployed to cloud services like AWS Lambda, Google Cloud Run, or Azure Functions.\n",
    "# Latency should be kept under 300ms per request.\n",
    "# Monitoring should be implemented to track model drift and update the model periodically based on newly labeled data."
   ]
  }
 ],
 "metadata": {
  "kernelspec": {
   "display_name": "Python [conda env:base] *",
   "language": "python",
   "name": "conda-base-py"
  },
  "language_info": {
   "codemirror_mode": {
    "name": "ipython",
    "version": 3
   },
   "file_extension": ".py",
   "mimetype": "text/x-python",
   "name": "python",
   "nbconvert_exporter": "python",
   "pygments_lexer": "ipython3",
   "version": "3.12.7"
  }
 },
 "nbformat": 4,
 "nbformat_minor": 5
}
